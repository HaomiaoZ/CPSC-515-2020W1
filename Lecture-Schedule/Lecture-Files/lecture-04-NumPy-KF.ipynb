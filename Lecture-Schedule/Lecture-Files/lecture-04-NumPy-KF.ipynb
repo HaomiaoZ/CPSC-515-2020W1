{
 "cells": [
  {
   "cell_type": "code",
   "execution_count": 1,
   "metadata": {},
   "outputs": [
    {
     "name": "stdout",
     "output_type": "stream",
     "text": [
      "(matrix([[3.99966644],\n",
      "        [0.99999983]]), matrix([[2.33189042, 0.99916761],\n",
      "        [0.99916761, 0.49950058]]))\n"
     ]
    }
   ],
   "source": [
    "import numpy as np\n",
    "\n",
    "#-------------------------------------------------------------\n",
    "# Implement your filter function below using calls to np.\n",
    "\n",
    "def kalman_filter(x, P):\n",
    "\n",
    "    for n in range(len(measurements)):\n",
    "        # measurement update\n",
    "        y = np.matrix([[measurements[n]]]) - H * x\n",
    "        S = H * P * H.transpose()\n",
    "        S = S + R\n",
    "        K = P * H.transpose() * np.linalg.inv(S)\n",
    "        x = x + K * y\n",
    "        P = (I - K * H) * P\n",
    "        \n",
    "        # prediction\n",
    "        x = F * x + u\n",
    "        P = F * P * F.transpose()\n",
    "    \n",
    "    return x, P\n",
    "\n",
    "#-------------------------------------------------------------\n",
    "# Test code.\n",
    "\n",
    "############################################\n",
    "### use the code below to test your filter!\n",
    "############################################\n",
    "\n",
    "measurements = [1, 2, 3]\n",
    "\n",
    "x = np.matrix([[0.], [0.]])               # initial state (location and velocity)\n",
    "P = np.matrix([[1000., 0.], [0., 1000.]]) # initial uncertainty\n",
    "u = np.matrix([[0.], [0.]])               # external motion\n",
    "F = np.matrix([[1., 1.], [0, 1.]])        # next state function\n",
    "H = np.matrix([[1., 0.]])                 # measurement function\n",
    "R = np.matrix([[1.]])                     # measurement uncertainty\n",
    "I = np.matrix([[1., 0.], [0., 1.]])       # identity matrix\n",
    "\n",
    "print(kalman_filter(x, P))\n",
    "\n",
    "# output should be:\n",
    "# x: [[3.9996664447958645], [0.9999998335552873]]\n",
    "# P: [[2.3318904241194827, 0.9991676099921091], [0.9991676099921067, 0.49950058263974184]]\n",
    "\n"
   ]
  },
  {
   "cell_type": "code",
   "execution_count": null,
   "metadata": {},
   "outputs": [],
   "source": []
  }
 ],
 "metadata": {
  "kernelspec": {
   "display_name": "Python 3",
   "language": "python",
   "name": "python3"
  },
  "language_info": {
   "codemirror_mode": {
    "name": "ipython",
    "version": 3
   },
   "file_extension": ".py",
   "mimetype": "text/x-python",
   "name": "python",
   "nbconvert_exporter": "python",
   "pygments_lexer": "ipython3",
   "version": "3.7.6"
  }
 },
 "nbformat": 4,
 "nbformat_minor": 4
}
